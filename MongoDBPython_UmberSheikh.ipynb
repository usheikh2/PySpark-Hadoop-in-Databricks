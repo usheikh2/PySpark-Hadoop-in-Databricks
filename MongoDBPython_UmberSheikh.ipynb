{
 "cells": [
  {
   "cell_type": "markdown",
   "id": "bac88783-78c7-4a54-9796-70ee5770e9f9",
   "metadata": {},
   "source": [
    "## Big Data Essentials \n",
    "### NoSQL MongoDB with Python"
   ]
  },
  {
   "cell_type": "markdown",
   "id": "d25eeebc-629c-46ab-b63d-8a87e8d5637f",
   "metadata": {},
   "source": [
    "##### Full Name: Umber Sheikh\n"
   ]
  },
  {
   "cell_type": "markdown",
   "id": "27a516e1-d95c-454c-ab4b-1b6a9ae1fb5b",
   "metadata": {},
   "source": [
    "<b>Please follow Dr. Liao's code examples/tutorials to complete these tasks: </b>"
   ]
  },
  {
   "cell_type": "code",
   "execution_count": 82,
   "id": "db398153-8543-47e4-9ada-7d5ad5b12cae",
   "metadata": {},
   "outputs": [
    {
     "name": "stdout",
     "output_type": "stream",
     "text": [
      "Requirement already satisfied: pymongo in /opt/homebrew/lib/python3.11/site-packages (4.3.3)\n",
      "Requirement already satisfied: dnspython<3.0.0,>=1.16.0 in /opt/homebrew/lib/python3.11/site-packages (from pymongo) (2.3.0)\n",
      "\n",
      "\u001b[1m[\u001b[0m\u001b[34;49mnotice\u001b[0m\u001b[1;39;49m]\u001b[0m\u001b[39;49m A new release of pip available: \u001b[0m\u001b[31;49m22.3.1\u001b[0m\u001b[39;49m -> \u001b[0m\u001b[32;49m23.0.1\u001b[0m\n",
      "\u001b[1m[\u001b[0m\u001b[34;49mnotice\u001b[0m\u001b[1;39;49m]\u001b[0m\u001b[39;49m To update, run: \u001b[0m\u001b[32;49mpython3.11 -m pip install --upgrade pip\u001b[0m\n"
     ]
    }
   ],
   "source": [
    "!pip3 install pymongo"
   ]
  },
  {
   "cell_type": "markdown",
   "id": "21fb9ff9-daf6-4260-ae3a-a5691ef19d32",
   "metadata": {},
   "source": [
    "#### Import Libaries"
   ]
  },
  {
   "cell_type": "code",
   "execution_count": 83,
   "id": "0b6e6659-a2d2-4ece-a548-9a7fba967299",
   "metadata": {},
   "outputs": [],
   "source": [
    "import pymongo\n",
    "import pandas as pd\n",
    "import json"
   ]
  },
  {
   "cell_type": "markdown",
   "id": "3e0788df-792a-4cee-a0b1-1c5b1658539a",
   "metadata": {},
   "source": [
    "#### Connect MongoDB "
   ]
  },
  {
   "cell_type": "code",
   "execution_count": 84,
   "id": "dc0fe9ed-22bb-408a-ab6c-32ddd1151c82",
   "metadata": {},
   "outputs": [],
   "source": [
    "client = pymongo.MongoClient(\"mongodb://localhost:27017/\")"
   ]
  },
  {
   "cell_type": "markdown",
   "id": "1c4fe535-aaeb-45e1-ba41-ef1863c09602",
   "metadata": {},
   "source": [
    "#### Load the CSV file"
   ]
  },
  {
   "cell_type": "code",
   "execution_count": 85,
   "id": "c976fff5-3158-4ee5-83ba-a066aa7d340c",
   "metadata": {},
   "outputs": [
    {
     "data": {
      "text/html": [
       "<div>\n",
       "<style scoped>\n",
       "    .dataframe tbody tr th:only-of-type {\n",
       "        vertical-align: middle;\n",
       "    }\n",
       "\n",
       "    .dataframe tbody tr th {\n",
       "        vertical-align: top;\n",
       "    }\n",
       "\n",
       "    .dataframe thead th {\n",
       "        text-align: right;\n",
       "    }\n",
       "</style>\n",
       "<table border=\"1\" class=\"dataframe\">\n",
       "  <thead>\n",
       "    <tr style=\"text-align: right;\">\n",
       "      <th></th>\n",
       "      <th>Age</th>\n",
       "      <th>Attrition</th>\n",
       "      <th>BusinessTravel</th>\n",
       "      <th>DailyRate</th>\n",
       "      <th>Department</th>\n",
       "      <th>DistanceFromHome</th>\n",
       "      <th>Education</th>\n",
       "      <th>EducationField</th>\n",
       "      <th>EmployeeCount</th>\n",
       "      <th>EmployeeNumber</th>\n",
       "      <th>...</th>\n",
       "      <th>RelationshipSatisfaction</th>\n",
       "      <th>StandardHours</th>\n",
       "      <th>StockOptionLevel</th>\n",
       "      <th>TotalWorkingYears</th>\n",
       "      <th>TrainingTimesLastYear</th>\n",
       "      <th>WorkLifeBalance</th>\n",
       "      <th>YearsAtCompany</th>\n",
       "      <th>YearsInCurrentRole</th>\n",
       "      <th>YearsSinceLastPromotion</th>\n",
       "      <th>YearsWithCurrManager</th>\n",
       "    </tr>\n",
       "  </thead>\n",
       "  <tbody>\n",
       "    <tr>\n",
       "      <th>0</th>\n",
       "      <td>41</td>\n",
       "      <td>Yes</td>\n",
       "      <td>Travel_Rarely</td>\n",
       "      <td>1102</td>\n",
       "      <td>Sales</td>\n",
       "      <td>1</td>\n",
       "      <td>2</td>\n",
       "      <td>Life Sciences</td>\n",
       "      <td>1</td>\n",
       "      <td>1</td>\n",
       "      <td>...</td>\n",
       "      <td>1</td>\n",
       "      <td>80</td>\n",
       "      <td>0</td>\n",
       "      <td>8</td>\n",
       "      <td>0</td>\n",
       "      <td>1</td>\n",
       "      <td>6</td>\n",
       "      <td>4</td>\n",
       "      <td>0</td>\n",
       "      <td>5</td>\n",
       "    </tr>\n",
       "    <tr>\n",
       "      <th>1</th>\n",
       "      <td>49</td>\n",
       "      <td>No</td>\n",
       "      <td>Travel_Frequently</td>\n",
       "      <td>279</td>\n",
       "      <td>Research &amp; Development</td>\n",
       "      <td>8</td>\n",
       "      <td>1</td>\n",
       "      <td>Life Sciences</td>\n",
       "      <td>1</td>\n",
       "      <td>2</td>\n",
       "      <td>...</td>\n",
       "      <td>4</td>\n",
       "      <td>80</td>\n",
       "      <td>1</td>\n",
       "      <td>10</td>\n",
       "      <td>3</td>\n",
       "      <td>3</td>\n",
       "      <td>10</td>\n",
       "      <td>7</td>\n",
       "      <td>1</td>\n",
       "      <td>7</td>\n",
       "    </tr>\n",
       "    <tr>\n",
       "      <th>2</th>\n",
       "      <td>37</td>\n",
       "      <td>Yes</td>\n",
       "      <td>Travel_Rarely</td>\n",
       "      <td>1373</td>\n",
       "      <td>Research &amp; Development</td>\n",
       "      <td>2</td>\n",
       "      <td>2</td>\n",
       "      <td>Other</td>\n",
       "      <td>1</td>\n",
       "      <td>4</td>\n",
       "      <td>...</td>\n",
       "      <td>2</td>\n",
       "      <td>80</td>\n",
       "      <td>0</td>\n",
       "      <td>7</td>\n",
       "      <td>3</td>\n",
       "      <td>3</td>\n",
       "      <td>0</td>\n",
       "      <td>0</td>\n",
       "      <td>0</td>\n",
       "      <td>0</td>\n",
       "    </tr>\n",
       "    <tr>\n",
       "      <th>3</th>\n",
       "      <td>33</td>\n",
       "      <td>No</td>\n",
       "      <td>Travel_Frequently</td>\n",
       "      <td>1392</td>\n",
       "      <td>Research &amp; Development</td>\n",
       "      <td>3</td>\n",
       "      <td>4</td>\n",
       "      <td>Life Sciences</td>\n",
       "      <td>1</td>\n",
       "      <td>5</td>\n",
       "      <td>...</td>\n",
       "      <td>3</td>\n",
       "      <td>80</td>\n",
       "      <td>0</td>\n",
       "      <td>8</td>\n",
       "      <td>3</td>\n",
       "      <td>3</td>\n",
       "      <td>8</td>\n",
       "      <td>7</td>\n",
       "      <td>3</td>\n",
       "      <td>0</td>\n",
       "    </tr>\n",
       "    <tr>\n",
       "      <th>4</th>\n",
       "      <td>27</td>\n",
       "      <td>No</td>\n",
       "      <td>Travel_Rarely</td>\n",
       "      <td>591</td>\n",
       "      <td>Research &amp; Development</td>\n",
       "      <td>2</td>\n",
       "      <td>1</td>\n",
       "      <td>Medical</td>\n",
       "      <td>1</td>\n",
       "      <td>7</td>\n",
       "      <td>...</td>\n",
       "      <td>4</td>\n",
       "      <td>80</td>\n",
       "      <td>1</td>\n",
       "      <td>6</td>\n",
       "      <td>3</td>\n",
       "      <td>3</td>\n",
       "      <td>2</td>\n",
       "      <td>2</td>\n",
       "      <td>2</td>\n",
       "      <td>2</td>\n",
       "    </tr>\n",
       "  </tbody>\n",
       "</table>\n",
       "<p>5 rows × 35 columns</p>\n",
       "</div>"
      ],
      "text/plain": [
       "   Age Attrition     BusinessTravel  DailyRate              Department  \\\n",
       "0   41       Yes      Travel_Rarely       1102                   Sales   \n",
       "1   49        No  Travel_Frequently        279  Research & Development   \n",
       "2   37       Yes      Travel_Rarely       1373  Research & Development   \n",
       "3   33        No  Travel_Frequently       1392  Research & Development   \n",
       "4   27        No      Travel_Rarely        591  Research & Development   \n",
       "\n",
       "   DistanceFromHome  Education EducationField  EmployeeCount  EmployeeNumber  \\\n",
       "0                 1          2  Life Sciences              1               1   \n",
       "1                 8          1  Life Sciences              1               2   \n",
       "2                 2          2          Other              1               4   \n",
       "3                 3          4  Life Sciences              1               5   \n",
       "4                 2          1        Medical              1               7   \n",
       "\n",
       "   ...  RelationshipSatisfaction StandardHours  StockOptionLevel  \\\n",
       "0  ...                         1            80                 0   \n",
       "1  ...                         4            80                 1   \n",
       "2  ...                         2            80                 0   \n",
       "3  ...                         3            80                 0   \n",
       "4  ...                         4            80                 1   \n",
       "\n",
       "   TotalWorkingYears  TrainingTimesLastYear WorkLifeBalance  YearsAtCompany  \\\n",
       "0                  8                      0               1               6   \n",
       "1                 10                      3               3              10   \n",
       "2                  7                      3               3               0   \n",
       "3                  8                      3               3               8   \n",
       "4                  6                      3               3               2   \n",
       "\n",
       "  YearsInCurrentRole  YearsSinceLastPromotion  YearsWithCurrManager  \n",
       "0                  4                        0                     5  \n",
       "1                  7                        1                     7  \n",
       "2                  0                        0                     0  \n",
       "3                  7                        3                     0  \n",
       "4                  2                        2                     2  \n",
       "\n",
       "[5 rows x 35 columns]"
      ]
     },
     "execution_count": 85,
     "metadata": {},
     "output_type": "execute_result"
    }
   ],
   "source": [
    "df = pd.read_csv(\"EmployeeAttrition.csv\")\n",
    "df.head(5)"
   ]
  },
  {
   "cell_type": "markdown",
   "id": "a29fb50c-a38e-473e-a510-99fa420e4e5f",
   "metadata": {},
   "source": [
    "#### convert to Json"
   ]
  },
  {
   "cell_type": "code",
   "execution_count": 86,
   "id": "28416e61-60c1-43ae-ad35-12289c2f3f5e",
   "metadata": {},
   "outputs": [],
   "source": [
    "# convert to Json\n",
    "data = json.loads(df.to_json(orient='records'))"
   ]
  },
  {
   "cell_type": "markdown",
   "id": "4a029890-0088-4aeb-ae78-9a94d3e499df",
   "metadata": {},
   "source": [
    "#### Creating a Database"
   ]
  },
  {
   "cell_type": "code",
   "execution_count": 87,
   "id": "09343017-2404-4734-9e25-c90eaa49b690",
   "metadata": {},
   "outputs": [
    {
     "data": {
      "text/plain": [
       "Database(MongoClient(host=['localhost:27017'], document_class=dict, tz_aware=False, connect=True), 'myDB')"
      ]
     },
     "execution_count": 87,
     "metadata": {},
     "output_type": "execute_result"
    }
   ],
   "source": [
    "mongo_db = client[\"myDB\"]\n",
    "mongo_db"
   ]
  },
  {
   "cell_type": "markdown",
   "id": "1fee5c3a-26f3-4262-a60a-ff3d8534e5d5",
   "metadata": {},
   "source": [
    "#### Create a Collection"
   ]
  },
  {
   "cell_type": "code",
   "execution_count": 88,
   "id": "9a0a2f08-a9c0-4a89-8836-94074cebf74e",
   "metadata": {},
   "outputs": [],
   "source": [
    "collection_name = \"Employees\""
   ]
  },
  {
   "cell_type": "code",
   "execution_count": 89,
   "id": "10f80837",
   "metadata": {},
   "outputs": [],
   "source": [
    "collection = mongo_db[collection_name]"
   ]
  },
  {
   "cell_type": "markdown",
   "id": "569a00a0-ca43-4d5b-9ea1-eaf745141c47",
   "metadata": {},
   "source": [
    "#### Insert the data into MongoDB Collection "
   ]
  },
  {
   "cell_type": "code",
   "execution_count": 90,
   "id": "95d4e88d-e5c1-4211-a330-9eb3b12c57d1",
   "metadata": {},
   "outputs": [
    {
     "data": {
      "text/plain": [
       "<pymongo.results.InsertManyResult at 0x130945b40>"
      ]
     },
     "execution_count": 90,
     "metadata": {},
     "output_type": "execute_result"
    }
   ],
   "source": [
    "collection.insert_many(data)"
   ]
  },
  {
   "cell_type": "markdown",
   "id": "8631dfb2-4e32-4fea-9578-a0541fa7fad1",
   "metadata": {},
   "source": [
    "#### Query MongoDB"
   ]
  },
  {
   "cell_type": "markdown",
   "id": "80ca5d95-28fd-4e6b-865f-6850ecefae06",
   "metadata": {},
   "source": [
    "##### 1. Count the employees whose TotalWorkingYears are greater than 20."
   ]
  },
  {
   "cell_type": "code",
   "execution_count": 91,
   "id": "6b6f9ef5-79cf-486d-865d-2167e4e98578",
   "metadata": {},
   "outputs": [
    {
     "data": {
      "text/plain": [
       "207"
      ]
     },
     "execution_count": 91,
     "metadata": {},
     "output_type": "execute_result"
    }
   ],
   "source": [
    "collection.count_documents(\n",
    "    {\"TotalWorkingYears\": {'$gt': 20}}\n",
    ")"
   ]
  },
  {
   "cell_type": "markdown",
   "id": "6732e99f-a07d-4991-b14d-bfc831cda180",
   "metadata": {},
   "source": [
    "##### 2. Find EmployeeNumber, EducationField, JobRole for all the employees whose Age is between 25 and 30 and Education is 5. Display only EmployeeNumber, EducationField, and JobRobe in the output."
   ]
  },
  {
   "cell_type": "code",
   "execution_count": 92,
   "id": "fd30a490-7cfb-43eb-bdbe-91305555084d",
   "metadata": {},
   "outputs": [
    {
     "data": {
      "text/plain": [
       "[{'_id': ObjectId('642a502e06a4f38a26c38e8c'),\n",
       "  'EducationField': 'Other',\n",
       "  'EmployeeNumber': 455},\n",
       " {'_id': ObjectId('642a502e06a4f38a26c38ee0'),\n",
       "  'EducationField': 'Technical Degree',\n",
       "  'EmployeeNumber': 565},\n",
       " {'_id': ObjectId('642a502e06a4f38a26c38f5c'),\n",
       "  'EducationField': 'Marketing',\n",
       "  'EmployeeNumber': 747},\n",
       " {'_id': ObjectId('642a502e06a4f38a26c3904d'),\n",
       "  'EducationField': 'Life Sciences',\n",
       "  'EmployeeNumber': 1094}]"
      ]
     },
     "execution_count": 92,
     "metadata": {},
     "output_type": "execute_result"
    }
   ],
   "source": [
    "employees = collection.find(\n",
    "    {\"Age\": {\"$gte\": 25,\"$lte\": 30 },\n",
    "    \"Education\": {\"$eq\": 5}},\n",
    "    {'EmployeeNumber', 'EducationField', 'JobRobe'}\n",
    ")\n",
    "\n",
    "list(employees)"
   ]
  },
  {
   "cell_type": "markdown",
   "id": "b9bf68aa-4c1c-4368-b645-9faa547f9ba9",
   "metadata": {},
   "source": [
    "##### 3. For all the women employees having Age between 35 and 40 and TotalWorkingYears < 5, sort EmployeeNumber in an ascending order. Print only Department and EmployeeNumber in the output. "
   ]
  },
  {
   "cell_type": "code",
   "execution_count": 93,
   "id": "d2573e57-5145-4294-baa8-dd85c98462db",
   "metadata": {},
   "outputs": [
    {
     "data": {
      "text/plain": [
       "[{'_id': ObjectId('642a502e06a4f38a26c38d60'),\n",
       "  'Department': 'Sales',\n",
       "  'EmployeeNumber': 49},\n",
       " {'_id': ObjectId('642a502e06a4f38a26c38d74'),\n",
       "  'Department': 'Research & Development',\n",
       "  'EmployeeNumber': 75},\n",
       " {'_id': ObjectId('642a502e06a4f38a26c38dee'),\n",
       "  'Department': 'Research & Development',\n",
       "  'EmployeeNumber': 245},\n",
       " {'_id': ObjectId('642a502e06a4f38a26c38f7f'),\n",
       "  'Department': 'Sales',\n",
       "  'EmployeeNumber': 805},\n",
       " {'_id': ObjectId('642a502e06a4f38a26c39191'),\n",
       "  'Department': 'Research & Development',\n",
       "  'EmployeeNumber': 1569},\n",
       " {'_id': ObjectId('642a502e06a4f38a26c391d9'),\n",
       "  'Department': 'Research & Development',\n",
       "  'EmployeeNumber': 1662},\n",
       " {'_id': ObjectId('642a502e06a4f38a26c391e4'),\n",
       "  'Department': 'Research & Development',\n",
       "  'EmployeeNumber': 1675},\n",
       " {'_id': ObjectId('642a502e06a4f38a26c3927c'),\n",
       "  'Department': 'Research & Development',\n",
       "  'EmployeeNumber': 1886},\n",
       " {'_id': ObjectId('642a502e06a4f38a26c392ed'),\n",
       "  'Department': 'Research & Development',\n",
       "  'EmployeeNumber': 2052}]"
      ]
     },
     "execution_count": 93,
     "metadata": {},
     "output_type": "execute_result"
    }
   ],
   "source": [
    "employees = collection.find(\n",
    "    {\"Age\": {\"$gte\": 35,\"$lte\": 40 },\n",
    "    \"Gender\": {\"$eq\": \"Female\"},\n",
    "    \"TotalWorkingYears\": {\"$lt\": 5}},\n",
    "    {'Department', 'EmployeeNumber'}\n",
    ").sort('EmployeeNumber ', 1 )\n",
    "\n",
    "list(employees)"
   ]
  },
  {
   "cell_type": "markdown",
   "id": "56b94656-ce30-417f-b064-fa9a666dde38",
   "metadata": {},
   "source": [
    "##### 4. Find employees whose HourlyRate is greater than or equal to 100 or DailyRate is greater than 1490. Display Age, HourlyRate, DailyRate, and Department only and sort DailyRate in an ascending order.  "
   ]
  },
  {
   "cell_type": "code",
   "execution_count": 94,
   "id": "ae0b2969-5269-40f4-9fce-8e6ebfc783b6",
   "metadata": {},
   "outputs": [
    {
     "data": {
      "text/plain": [
       "[{'_id': ObjectId('642a502e06a4f38a26c38e6a'),\n",
       "  'Age': 31,\n",
       "  'DailyRate': 218,\n",
       "  'Department': 'Sales',\n",
       "  'HourlyRate': 100},\n",
       " {'_id': ObjectId('642a502e06a4f38a26c39170'),\n",
       "  'Age': 29,\n",
       "  'DailyRate': 224,\n",
       "  'Department': 'Research & Development',\n",
       "  'HourlyRate': 100},\n",
       " {'_id': ObjectId('642a502e06a4f38a26c38f33'),\n",
       "  'Age': 45,\n",
       "  'DailyRate': 306,\n",
       "  'Department': 'Sales',\n",
       "  'HourlyRate': 100},\n",
       " {'_id': ObjectId('642a502e06a4f38a26c392e6'),\n",
       "  'Age': 38,\n",
       "  'DailyRate': 345,\n",
       "  'Department': 'Sales',\n",
       "  'HourlyRate': 100},\n",
       " {'_id': ObjectId('642a502e06a4f38a26c3907e'),\n",
       "  'Age': 35,\n",
       "  'DailyRate': 528,\n",
       "  'Department': 'Human Resources',\n",
       "  'HourlyRate': 100},\n",
       " {'_id': ObjectId('642a502e06a4f38a26c38dbb'),\n",
       "  'Age': 22,\n",
       "  'DailyRate': 594,\n",
       "  'Department': 'Research & Development',\n",
       "  'HourlyRate': 100},\n",
       " {'_id': ObjectId('642a502e06a4f38a26c38de6'),\n",
       "  'Age': 19,\n",
       "  'DailyRate': 602,\n",
       "  'Department': 'Sales',\n",
       "  'HourlyRate': 100},\n",
       " {'_id': ObjectId('642a502e06a4f38a26c39127'),\n",
       "  'Age': 26,\n",
       "  'DailyRate': 652,\n",
       "  'Department': 'Research & Development',\n",
       "  'HourlyRate': 100},\n",
       " {'_id': ObjectId('642a502e06a4f38a26c38f99'),\n",
       "  'Age': 34,\n",
       "  'DailyRate': 702,\n",
       "  'Department': 'Research & Development',\n",
       "  'HourlyRate': 100},\n",
       " {'_id': ObjectId('642a502e06a4f38a26c38e2c'),\n",
       "  'Age': 32,\n",
       "  'DailyRate': 976,\n",
       "  'Department': 'Sales',\n",
       "  'HourlyRate': 100},\n",
       " {'_id': ObjectId('642a502e06a4f38a26c38e4d'),\n",
       "  'Age': 21,\n",
       "  'DailyRate': 996,\n",
       "  'Department': 'Research & Development',\n",
       "  'HourlyRate': 100},\n",
       " {'_id': ObjectId('642a502e06a4f38a26c38da3'),\n",
       "  'Age': 37,\n",
       "  'DailyRate': 1040,\n",
       "  'Department': 'Research & Development',\n",
       "  'HourlyRate': 100},\n",
       " {'_id': ObjectId('642a502e06a4f38a26c38eaa'),\n",
       "  'Age': 50,\n",
       "  'DailyRate': 1046,\n",
       "  'Department': 'Research & Development',\n",
       "  'HourlyRate': 100},\n",
       " {'_id': ObjectId('642a502e06a4f38a26c392e8'),\n",
       "  'Age': 36,\n",
       "  'DailyRate': 1120,\n",
       "  'Department': 'Sales',\n",
       "  'HourlyRate': 100},\n",
       " {'_id': ObjectId('642a502e06a4f38a26c38fdc'),\n",
       "  'Age': 33,\n",
       "  'DailyRate': 1198,\n",
       "  'Department': 'Research & Development',\n",
       "  'HourlyRate': 100},\n",
       " {'_id': ObjectId('642a502e06a4f38a26c38e3f'),\n",
       "  'Age': 32,\n",
       "  'DailyRate': 1311,\n",
       "  'Department': 'Research & Development',\n",
       "  'HourlyRate': 100},\n",
       " {'_id': ObjectId('642a502e06a4f38a26c39244'),\n",
       "  'Age': 38,\n",
       "  'DailyRate': 1336,\n",
       "  'Department': 'Human Resources',\n",
       "  'HourlyRate': 100},\n",
       " {'_id': ObjectId('642a502e06a4f38a26c39144'),\n",
       "  'Age': 31,\n",
       "  'DailyRate': 1445,\n",
       "  'Department': 'Research & Development',\n",
       "  'HourlyRate': 100},\n",
       " {'_id': ObjectId('642a502e06a4f38a26c38ffd'),\n",
       "  'Age': 40,\n",
       "  'DailyRate': 1479,\n",
       "  'Department': 'Sales',\n",
       "  'HourlyRate': 100},\n",
       " {'_id': ObjectId('642a502e06a4f38a26c3904c'),\n",
       "  'Age': 40,\n",
       "  'DailyRate': 1492,\n",
       "  'Department': 'Research & Development',\n",
       "  'HourlyRate': 61},\n",
       " {'_id': ObjectId('642a502e06a4f38a26c38f12'),\n",
       "  'Age': 38,\n",
       "  'DailyRate': 1495,\n",
       "  'Department': 'Research & Development',\n",
       "  'HourlyRate': 76},\n",
       " {'_id': ObjectId('642a502e06a4f38a26c3914f'),\n",
       "  'Age': 49,\n",
       "  'DailyRate': 1495,\n",
       "  'Department': 'Research & Development',\n",
       "  'HourlyRate': 96},\n",
       " {'_id': ObjectId('642a502e06a4f38a26c391ed'),\n",
       "  'Age': 38,\n",
       "  'DailyRate': 1495,\n",
       "  'Department': 'Research & Development',\n",
       "  'HourlyRate': 87},\n",
       " {'_id': ObjectId('642a502e06a4f38a26c38dd6'),\n",
       "  'Age': 29,\n",
       "  'DailyRate': 1496,\n",
       "  'Department': 'Research & Development',\n",
       "  'HourlyRate': 41},\n",
       " {'_id': ObjectId('642a502e06a4f38a26c3915b'),\n",
       "  'Age': 28,\n",
       "  'DailyRate': 1496,\n",
       "  'Department': 'Sales',\n",
       "  'HourlyRate': 92},\n",
       " {'_id': ObjectId('642a502e06a4f38a26c39115'),\n",
       "  'Age': 39,\n",
       "  'DailyRate': 1498,\n",
       "  'Department': 'Sales',\n",
       "  'HourlyRate': 44},\n",
       " {'_id': ObjectId('642a502e06a4f38a26c38ee6'),\n",
       "  'Age': 60,\n",
       "  'DailyRate': 1499,\n",
       "  'Department': 'Sales',\n",
       "  'HourlyRate': 80}]"
      ]
     },
     "execution_count": 94,
     "metadata": {},
     "output_type": "execute_result"
    }
   ],
   "source": [
    "employees = collection.find(\n",
    "    {\"$or\": [\n",
    "    {\"HourlyRate\": {\"$gte\": 100}},\n",
    "    {\"DailyRate\": {\"$gt\": 1490}}\n",
    "     ]},\n",
    "    {'Age', 'HourlyRate', 'DailyRate','Department'}).sort('DailyRate', 1)\n",
    "        \n",
    "list(employees)"
   ]
  },
  {
   "cell_type": "markdown",
   "id": "e4d44246-3ea0-4c32-8a70-6fdc23e1b24b",
   "metadata": {},
   "source": [
    "##### 5. For each JobRole, find the average MonthlyIncome. Print out the formatted monthly incomes in hundredth and arrange them in descending order."
   ]
  },
  {
   "cell_type": "code",
   "execution_count": 95,
   "id": "13e368ff-b7c2-4e8e-8c3d-e1c54bfba532",
   "metadata": {},
   "outputs": [
    {
     "name": "stdout",
     "output_type": "stream",
     "text": [
      "Job Role \t MonthlyIncome\n",
      "---------------------------------\n",
      "Manager \t\t\t 17181.68\n",
      "Research Director \t\t\t 16033.55\n",
      "Healthcare Representative \t\t\t 7528.76\n",
      "Manufacturing Director \t\t\t 7295.14\n",
      "Sales Executive \t\t\t 6924.28\n",
      "Human Resources \t\t\t 4235.75\n",
      "Research Scientist \t\t\t 3239.97\n",
      "Laboratory Technician \t\t\t 3237.17\n",
      "Sales Representative \t\t\t 2626.00\n"
     ]
    }
   ],
   "source": [
    "result = collection.aggregate([\n",
    "    {\"$group\" : {\n",
    "        \"_id\" : \"$JobRole\",  \n",
    "        \"avg_monthly_income\" : {\"$avg\" : '$MonthlyIncome'}\n",
    "    }},\n",
    "    {\"$sort\" : {\n",
    "        \"avg_monthly_income\": -1}\n",
    "    }\n",
    "])\n",
    "\n",
    "# print formatted outputs\n",
    "print('Job Role', '\\t', 'MonthlyIncome')\n",
    "print('---------------------------------')\n",
    "for x in result:\n",
    "    print(x['_id'],'\\t\\t\\t','{:.2f}'.format(x['avg_monthly_income']))"
   ]
  },
  {
   "cell_type": "markdown",
   "id": "f0bdadc8-eb7f-4e37-a686-dd9b072ca981",
   "metadata": {},
   "source": [
    "##### 6. Count the different MaritalStatus when Attrition is YES and AGE is greater than 35 in the dataset. Arrange the count in descending order."
   ]
  },
  {
   "cell_type": "code",
   "execution_count": 96,
   "id": "0d30eb9b-9352-47df-a6b9-3dd9bfc6b2d7",
   "metadata": {},
   "outputs": [
    {
     "data": {
      "text/plain": [
       "[{'_id': 'Married', 'total': 33},\n",
       " {'_id': 'Single', 'total': 30},\n",
       " {'_id': 'Divorced', 'total': 14}]"
      ]
     },
     "execution_count": 96,
     "metadata": {},
     "output_type": "execute_result"
    }
   ],
   "source": [
    "result = collection.aggregate([\n",
    "    {'$match': {\n",
    "       \"$and\": [\n",
    "        {\"Attrition\": {\"$eq\": \"Yes\"}},\n",
    "        {\"Age\": {\"$gt\": 35}}     \n",
    "       ]\n",
    "    }}, \n",
    "    {\"$group\" : {\n",
    "        \"_id\" : \"$MaritalStatus\",\n",
    "        \"total\" : {\"$sum\" : 1}\n",
    "    }},\n",
    "    {'$sort': \n",
    "     {\"total\":-1}\n",
    "    }\n",
    "])\n",
    "list(result)"
   ]
  },
  {
   "cell_type": "markdown",
   "id": "c7e7daf1-eaea-4965-9e61-e00a8a4bd656",
   "metadata": {},
   "source": [
    "#### Delete All Documents in a Collection"
   ]
  },
  {
   "cell_type": "code",
   "execution_count": 97,
   "id": "8a1590ed-55f2-4fbb-a581-9a6c8f4af0a6",
   "metadata": {},
   "outputs": [
    {
     "name": "stdout",
     "output_type": "stream",
     "text": [
      "1470 documents have been deleted.\n"
     ]
    }
   ],
   "source": [
    "coll_del = collection.delete_many({})\n",
    "print(coll_del.deleted_count, \"documents have been deleted.\")"
   ]
  },
  {
   "cell_type": "markdown",
   "id": "f52109ff-4a39-42a6-9d06-fd34152bd551",
   "metadata": {},
   "source": [
    "#### Delete the Collection"
   ]
  },
  {
   "cell_type": "code",
   "execution_count": 98,
   "id": "85ce1d5c-4e76-484f-b4f8-30973b0323b3",
   "metadata": {},
   "outputs": [],
   "source": [
    "collection.drop()"
   ]
  },
  {
   "cell_type": "markdown",
   "id": "a2115972-88fa-44b3-801e-5e1b7c69560c",
   "metadata": {},
   "source": []
  },
  {
   "cell_type": "code",
   "execution_count": 99,
   "id": "3d79dbb5-b941-4a5d-bd5a-731be4a2d6bd",
   "metadata": {},
   "outputs": [],
   "source": [
    "#References:\n",
    "#[1] Dr. Liao’s lab tutorials and code examples: Blackboard/Liao_PyMongo.html\n",
    "#[2] PyMongo: https://pymongo.readthedocs.io/en/stable/\n"
   ]
  }
 ],
 "metadata": {
  "kernelspec": {
   "display_name": "Python 3 (ipykernel)",
   "language": "python",
   "name": "python3"
  },
  "language_info": {
   "codemirror_mode": {
    "name": "ipython",
    "version": 3
   },
   "file_extension": ".py",
   "mimetype": "text/x-python",
   "name": "python",
   "nbconvert_exporter": "python",
   "pygments_lexer": "ipython3",
   "version": "3.11.2"
  }
 },
 "nbformat": 4,
 "nbformat_minor": 5
}
